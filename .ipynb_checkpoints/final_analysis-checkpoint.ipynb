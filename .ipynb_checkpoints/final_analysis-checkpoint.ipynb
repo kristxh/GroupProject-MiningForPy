{
 "cells": [
  {
   "cell_type": "markdown",
   "metadata": {},
   "source": [
    "## Project Overview\n",
    "With the increased interest in mining cryptocurrencies over the last few years, we are interested in whether the price of hardware used in mining cryptocurrencies is related to the price fluctuations in the cryptocurrencies themselves.  We chose to limit the scope of this analysis to the top three graphics cards used for mining and six popular cryptocurrencies.  The project evaluates price changes in the graphics cards against price changes in cryptocurrencies over the last two years.  The expectation is that there is a correlation between the prices changes in the hardware and the cryptocurrencies.  Stock price changes for the companies that manufacture graphics cards will also be compared to cryptocurrency price changes as well as the S&P 500.\n",
    "\n",
    "### Questions\n",
    "* What is the correlation between GPU prices and cryptocurrency prices? \n",
    "* Is there a correlation between cryptocurrency prices and stock prices for companies that manufacture GPUs?\n",
    "\n",
    "### Out of Scope\n",
    "* This is not an analysis of total cost of mining.  This analysis does not factor in all types of hardware used for mining, electricity, difficulty levels, etc.  \n",
    "\n",
    "### Conclusions\n",
    "* NVDA stock price changes correlate more closely with the S&P 500 than with the six cryptocurrencies prices during the time analyzed. \n",
    "* Cryptocurrencies had more dramatic price changes than both the S&P 500 and NVDA stock prices.\n",
    "* The decline in crypto prices began a couple of months earlier than the decline in NVDA stock prices. \n",
    "* The S&P 500 and NVDA continued to increase as the price of cryptos began to drop significantly after they peaked in Dec 2018.  "
   ]
  },
  {
   "cell_type": "code",
   "execution_count": null,
   "metadata": {},
   "outputs": [],
   "source": []
  },
  {
   "cell_type": "code",
   "execution_count": null,
   "metadata": {},
   "outputs": [],
   "source": []
  },
  {
   "cell_type": "code",
   "execution_count": null,
   "metadata": {},
   "outputs": [],
   "source": []
  },
  {
   "cell_type": "code",
   "execution_count": null,
   "metadata": {
    "scrolled": true
   },
   "outputs": [],
   "source": []
  },
  {
   "cell_type": "code",
   "execution_count": null,
   "metadata": {},
   "outputs": [],
   "source": []
  },
  {
   "cell_type": "code",
   "execution_count": null,
   "metadata": {},
   "outputs": [],
   "source": []
  },
  {
   "cell_type": "code",
   "execution_count": null,
   "metadata": {},
   "outputs": [],
   "source": []
  },
  {
   "cell_type": "code",
   "execution_count": null,
   "metadata": {},
   "outputs": [],
   "source": []
  }
 ],
 "metadata": {
  "kernelspec": {
   "display_name": "my_environment",
   "language": "python",
   "name": "my_environment"
  },
  "language_info": {
   "codemirror_mode": {
    "name": "ipython",
    "version": 3
   },
   "file_extension": ".py",
   "mimetype": "text/x-python",
   "name": "python",
   "nbconvert_exporter": "python",
   "pygments_lexer": "ipython3",
   "version": "3.7.0"
  }
 },
 "nbformat": 4,
 "nbformat_minor": 2
}
