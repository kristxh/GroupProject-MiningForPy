{
 "cells": [
  {
   "cell_type": "code",
   "execution_count": 24,
   "metadata": {},
   "outputs": [],
   "source": [
    "# Dependencies and Setup\n",
    "import pandas as pd\n",
    "from functools import reduce\n",
    "import numpy as np\n",
    "import matplotlib.pyplot as plt\n",
    "import datetime\n",
    "import matplotlib.dates as mdates\n",
    "import matplotlib.cbook as cbook"
   ]
  },
  {
   "cell_type": "code",
   "execution_count": 2,
   "metadata": {},
   "outputs": [],
   "source": [
    "#Load stock price files\n",
    "amd_data = \"Resources/cl_stock-amd.csv\"\n",
    "nvda_data = \"Resources/cl_stock-nvda.csv\"\n",
    "mu_data = \"Resources/cl_stock-mu.csv\"\n",
    "\n",
    "# Load crypto price files - (BTC, XRP, ETH, LTC, EOS, DASH)\n",
    "btc_data = \"Resources/cl_crypto-btc.csv\"\n",
    "xrp_data = \"Resources/cl_crypto-xrp.csv\"\n",
    "eth_data = \"Resources/cl_crypto-eth.csv\"\n",
    "ltc_data = \"Resources/cl_crypto-ltc.csv\"\n",
    "eos_data = \"Resources/cl_crypto-eos.csv\"\n",
    "dash_data = \"Resources/cl_crypto-dash.csv\"\n",
    "\n",
    "# Create stock price DataFrames\n",
    "amd_df = pd.read_csv(amd_data).sort_values('date').reset_index(drop=True)\n",
    "nvda_df = pd.read_csv(nvda_data).sort_values('date').reset_index(drop=True)\n",
    "mu_df = pd.read_csv(mu_data).sort_values('date').reset_index(drop=True)\n",
    "\n",
    "# Create crypto price DataFrames\n",
    "btc_df = pd.read_csv(btc_data).sort_values('date').reset_index(drop=True)\n",
    "xrp_df = pd.read_csv(xrp_data).sort_values('date').reset_index(drop=True)\n",
    "eth_df = pd.read_csv(eth_data).sort_values('date').reset_index(drop=True)\n",
    "ltc_df = pd.read_csv(ltc_data).sort_values('date').reset_index(drop=True)\n",
    "eos_df = pd.read_csv(eos_data).sort_values('date').reset_index(drop=True)\n",
    "dash_df = pd.read_csv(dash_data).sort_values('date').reset_index(drop=True)"
   ]
  },
  {
   "cell_type": "code",
   "execution_count": 3,
   "metadata": {},
   "outputs": [
    {
     "data": {
      "text/html": [
       "<div>\n",
       "<style scoped>\n",
       "    .dataframe tbody tr th:only-of-type {\n",
       "        vertical-align: middle;\n",
       "    }\n",
       "\n",
       "    .dataframe tbody tr th {\n",
       "        vertical-align: top;\n",
       "    }\n",
       "\n",
       "    .dataframe thead th {\n",
       "        text-align: right;\n",
       "    }\n",
       "</style>\n",
       "<table border=\"1\" class=\"dataframe\">\n",
       "  <thead>\n",
       "    <tr style=\"text-align: right;\">\n",
       "      <th></th>\n",
       "      <th>date</th>\n",
       "      <th>close</th>\n",
       "    </tr>\n",
       "  </thead>\n",
       "  <tbody>\n",
       "    <tr>\n",
       "      <th>0</th>\n",
       "      <td>2015-12-07</td>\n",
       "      <td>2.355</td>\n",
       "    </tr>\n",
       "    <tr>\n",
       "      <th>1</th>\n",
       "      <td>2015-12-08</td>\n",
       "      <td>2.390</td>\n",
       "    </tr>\n",
       "    <tr>\n",
       "      <th>2</th>\n",
       "      <td>2015-12-09</td>\n",
       "      <td>2.350</td>\n",
       "    </tr>\n",
       "    <tr>\n",
       "      <th>3</th>\n",
       "      <td>2015-12-10</td>\n",
       "      <td>2.450</td>\n",
       "    </tr>\n",
       "    <tr>\n",
       "      <th>4</th>\n",
       "      <td>2015-12-11</td>\n",
       "      <td>2.360</td>\n",
       "    </tr>\n",
       "  </tbody>\n",
       "</table>\n",
       "</div>"
      ],
      "text/plain": [
       "         date  close\n",
       "0  2015-12-07  2.355\n",
       "1  2015-12-08  2.390\n",
       "2  2015-12-09  2.350\n",
       "3  2015-12-10  2.450\n",
       "4  2015-12-11  2.360"
      ]
     },
     "execution_count": 3,
     "metadata": {},
     "output_type": "execute_result"
    }
   ],
   "source": [
    "amd_df.head()"
   ]
  },
  {
   "cell_type": "code",
   "execution_count": 4,
   "metadata": {},
   "outputs": [],
   "source": [
    "# btc_df['val_chg'] = btc_df['close'].diff()\n",
    "# btc_df['pct_chg'] = btc_df['close'].pct_change()\n",
    "# # btc_df.head()\n",
    "\n",
    "# amd_df['val_chg'] = amd_df['close'].diff()\n",
    "# amd_df['pct_chg'] = amd_df['close'].pct_change()\n",
    "# amd_df.head()"
   ]
  },
  {
   "cell_type": "code",
   "execution_count": 17,
   "metadata": {},
   "outputs": [
    {
     "data": {
      "text/html": [
       "<div>\n",
       "<style scoped>\n",
       "    .dataframe tbody tr th:only-of-type {\n",
       "        vertical-align: middle;\n",
       "    }\n",
       "\n",
       "    .dataframe tbody tr th {\n",
       "        vertical-align: top;\n",
       "    }\n",
       "\n",
       "    .dataframe thead th {\n",
       "        text-align: right;\n",
       "    }\n",
       "</style>\n",
       "<table border=\"1\" class=\"dataframe\">\n",
       "  <thead>\n",
       "    <tr style=\"text-align: right;\">\n",
       "      <th></th>\n",
       "      <th>date</th>\n",
       "      <th>close_amd</th>\n",
       "      <th>close_nvda</th>\n",
       "      <th>close_mu</th>\n",
       "    </tr>\n",
       "  </thead>\n",
       "  <tbody>\n",
       "    <tr>\n",
       "      <th>0</th>\n",
       "      <td>2015-12-07</td>\n",
       "      <td>2.355</td>\n",
       "      <td>33.11</td>\n",
       "      <td>14.85</td>\n",
       "    </tr>\n",
       "    <tr>\n",
       "      <th>1</th>\n",
       "      <td>2015-12-08</td>\n",
       "      <td>2.390</td>\n",
       "      <td>33.56</td>\n",
       "      <td>14.60</td>\n",
       "    </tr>\n",
       "    <tr>\n",
       "      <th>2</th>\n",
       "      <td>2015-12-09</td>\n",
       "      <td>2.350</td>\n",
       "      <td>32.71</td>\n",
       "      <td>14.32</td>\n",
       "    </tr>\n",
       "    <tr>\n",
       "      <th>3</th>\n",
       "      <td>2015-12-10</td>\n",
       "      <td>2.450</td>\n",
       "      <td>32.98</td>\n",
       "      <td>14.66</td>\n",
       "    </tr>\n",
       "    <tr>\n",
       "      <th>4</th>\n",
       "      <td>2015-12-11</td>\n",
       "      <td>2.360</td>\n",
       "      <td>32.49</td>\n",
       "      <td>14.04</td>\n",
       "    </tr>\n",
       "  </tbody>\n",
       "</table>\n",
       "</div>"
      ],
      "text/plain": [
       "        date  close_amd  close_nvda  close_mu\n",
       "0 2015-12-07      2.355       33.11     14.85\n",
       "1 2015-12-08      2.390       33.56     14.60\n",
       "2 2015-12-09      2.350       32.71     14.32\n",
       "3 2015-12-10      2.450       32.98     14.66\n",
       "4 2015-12-11      2.360       32.49     14.04"
      ]
     },
     "execution_count": 17,
     "metadata": {},
     "output_type": "execute_result"
    }
   ],
   "source": [
    "# Merge stock price data into one DataFrame\n",
    "stocks = [amd_df,nvda_df,mu_df]\n",
    "merged_stocks = reduce(lambda left,right: pd.merge(left,right,on='date'), stocks)\n",
    "merged_stocks.rename(columns={'close_x': 'close_amd', 'close_y': 'close_nvda','close': 'close_mu'}, inplace=True)\n",
    "merged_stocks.sort_values('date',ascending=True,inplace=True)\n",
    "merged_stocks['date'] =  pd.to_datetime(merged_stocks['date'])\n",
    "# merged_stocks.dtypes\n",
    "merged_stocks.head()"
   ]
  },
  {
   "cell_type": "code",
   "execution_count": 15,
   "metadata": {},
   "outputs": [
    {
     "data": {
      "text/html": [
       "<div>\n",
       "<style scoped>\n",
       "    .dataframe tbody tr th:only-of-type {\n",
       "        vertical-align: middle;\n",
       "    }\n",
       "\n",
       "    .dataframe tbody tr th {\n",
       "        vertical-align: top;\n",
       "    }\n",
       "\n",
       "    .dataframe thead th {\n",
       "        text-align: right;\n",
       "    }\n",
       "</style>\n",
       "<table border=\"1\" class=\"dataframe\">\n",
       "  <thead>\n",
       "    <tr style=\"text-align: right;\">\n",
       "      <th></th>\n",
       "      <th>date</th>\n",
       "      <th>close_btc</th>\n",
       "      <th>close_xrp</th>\n",
       "      <th>close_eth</th>\n",
       "      <th>close_ltc</th>\n",
       "      <th>close_eos</th>\n",
       "      <th>close_dash</th>\n",
       "    </tr>\n",
       "  </thead>\n",
       "  <tbody>\n",
       "    <tr>\n",
       "      <th>1</th>\n",
       "      <td>2014-12-09</td>\n",
       "      <td>352.19</td>\n",
       "      <td>0.0</td>\n",
       "      <td>0.0</td>\n",
       "      <td>3.53</td>\n",
       "      <td>0.0</td>\n",
       "      <td>2.5</td>\n",
       "    </tr>\n",
       "    <tr>\n",
       "      <th>2</th>\n",
       "      <td>2014-12-10</td>\n",
       "      <td>347.94</td>\n",
       "      <td>0.0</td>\n",
       "      <td>0.0</td>\n",
       "      <td>3.50</td>\n",
       "      <td>0.0</td>\n",
       "      <td>2.5</td>\n",
       "    </tr>\n",
       "    <tr>\n",
       "      <th>3</th>\n",
       "      <td>2014-12-11</td>\n",
       "      <td>347.68</td>\n",
       "      <td>0.0</td>\n",
       "      <td>0.0</td>\n",
       "      <td>3.48</td>\n",
       "      <td>0.0</td>\n",
       "      <td>2.5</td>\n",
       "    </tr>\n",
       "    <tr>\n",
       "      <th>4</th>\n",
       "      <td>2014-12-12</td>\n",
       "      <td>353.40</td>\n",
       "      <td>0.0</td>\n",
       "      <td>0.0</td>\n",
       "      <td>3.49</td>\n",
       "      <td>0.0</td>\n",
       "      <td>2.5</td>\n",
       "    </tr>\n",
       "    <tr>\n",
       "      <th>5</th>\n",
       "      <td>2014-12-13</td>\n",
       "      <td>348.24</td>\n",
       "      <td>0.0</td>\n",
       "      <td>0.0</td>\n",
       "      <td>3.48</td>\n",
       "      <td>0.0</td>\n",
       "      <td>2.5</td>\n",
       "    </tr>\n",
       "  </tbody>\n",
       "</table>\n",
       "</div>"
      ],
      "text/plain": [
       "        date  close_btc  close_xrp  close_eth  close_ltc  close_eos  \\\n",
       "1 2014-12-09     352.19        0.0        0.0       3.53        0.0   \n",
       "2 2014-12-10     347.94        0.0        0.0       3.50        0.0   \n",
       "3 2014-12-11     347.68        0.0        0.0       3.48        0.0   \n",
       "4 2014-12-12     353.40        0.0        0.0       3.49        0.0   \n",
       "5 2014-12-13     348.24        0.0        0.0       3.48        0.0   \n",
       "\n",
       "   close_dash  \n",
       "1         2.5  \n",
       "2         2.5  \n",
       "3         2.5  \n",
       "4         2.5  \n",
       "5         2.5  "
      ]
     },
     "execution_count": 15,
     "metadata": {},
     "output_type": "execute_result"
    }
   ],
   "source": [
    "# Merge cryptos into one DataFrame\n",
    "cryptos1 = [btc_df,xrp_df,eth_df]\n",
    "merged_crypto1 = reduce(lambda left,right: pd.merge(left,right,on='date'), cryptos1)\n",
    "merged_crypto1.rename(columns={'close_x': 'close_btc', 'close_y': 'close_xrp','close': 'close_eth'}, inplace=True)\n",
    "\n",
    "cryptos2 = [ltc_df,eos_df,dash_df]\n",
    "merged_crypto2 = reduce(lambda left,right: pd.merge(left,right,on='date'), cryptos2)\n",
    "merged_crypto2.rename(columns={'close_x': 'close_ltc', 'close_y': 'close_eos','close': 'close_dash'}, inplace=True)\n",
    "\n",
    "all_crypto_df = pd.merge(merged_crypto1, merged_crypto2, on=\"date\", how=\"outer\")\n",
    "all_crypto_df.dropna(how='any',inplace=True)\n",
    "all_crypto_df['date'] =  pd.to_datetime(all_crypto_df['date'])\n",
    "# all_crypto_df.dtypes\n",
    "all_crypto_df.head()"
   ]
  },
  {
   "cell_type": "code",
   "execution_count": 12,
   "metadata": {},
   "outputs": [
    {
     "data": {
      "text/plain": [
       "date          datetime64[ns]\n",
       "close_btc            float64\n",
       "close_xrp            float64\n",
       "close_eth            float64\n",
       "close_ltc            float64\n",
       "close_eos            float64\n",
       "close_dash           float64\n",
       "dtype: object"
      ]
     },
     "execution_count": 12,
     "metadata": {},
     "output_type": "execute_result"
    }
   ],
   "source": []
  },
  {
   "cell_type": "code",
   "execution_count": 13,
   "metadata": {
    "scrolled": true
   },
   "outputs": [
    {
     "data": {
      "text/plain": [
       "<matplotlib.axes._subplots.AxesSubplot at 0x1b124860588>"
      ]
     },
     "execution_count": 13,
     "metadata": {},
     "output_type": "execute_result"
    },
    {
     "data": {
      "image/png": "[encoded data removed]",
      "text/plain": [
       "<Figure size 432x288 with 1 Axes>"
      ]
     },
     "metadata": {
      "needs_background": "light"
     },
     "output_type": "display_data"
    }
   ],
   "source": [
    "all_crypto_df.plot(x='date', y=['close_btc', 'close_xrp', 'close_eth','close_ltc','close_eos','close_dash'], kind=\"line\")\n"
   ]
  },
  {
   "cell_type": "code",
   "execution_count": 19,
   "metadata": {
    "scrolled": true
   },
   "outputs": [
    {
     "data": {
      "image/png": "[encoded data removed]",
      "text/plain": [
       "<Figure size 432x288 with 2 Axes>"
      ]
     },
     "metadata": {
      "needs_background": "light"
     },
     "output_type": "display_data"
    }
   ],
   "source": [
    "# Create some mock data\n",
    "# t = np.arange(0.01, 10.0, 0.01)\n",
    "# data1 = np.exp(t)\n",
    "# data2 = np.sin(2 * np.pi * t)\n",
    "\n",
    "fig, ax1 = plt.subplots()\n",
    "\n",
    "color = 'tab:green'\n",
    "ax1.set_xlabel('time (s)')\n",
    "ax1.set_ylabel('Price (BTC)', color=color)\n",
    "ax1.plot(all_crypto_df['date'], all_crypto_df['close_btc'], color=color)\n",
    "ax1.tick_params(axis='y', labelcolor=color)\n",
    "\n",
    "ax2 = ax1.twinx()  # instantiate a second axes that shares the same x-axis\n",
    "\n",
    "color = 'tab:blue'\n",
    "ax2.set_ylabel('Price (Other Cryptos)', color=color)  # we already handled the x-label with ax1\n",
    "ax2.plot(all_crypto_df['date'], all_crypto_df['close_dash'],color=color)\n",
    "ax2.tick_params(axis='y', labelcolor=color)\n",
    "\n",
    "fig.tight_layout()  # otherwise the right y-label is slightly clipped\n",
    "plt.show()"
   ]
  },
  {
   "cell_type": "code",
   "execution_count": 9,
   "metadata": {},
   "outputs": [
    {
     "data": {
      "text/plain": [
       "1       2014-12-09\n",
       "2       2014-12-10\n",
       "3       2014-12-11\n",
       "4       2014-12-12\n",
       "5       2014-12-13\n",
       "6       2014-12-14\n",
       "7       2014-12-15\n",
       "8       2014-12-16\n",
       "9       2014-12-17\n",
       "10      2014-12-18\n",
       "11      2014-12-19\n",
       "12      2014-12-20\n",
       "13      2014-12-21\n",
       "14      2014-12-22\n",
       "15      2014-12-23\n",
       "16      2014-12-24\n",
       "17      2014-12-25\n",
       "18      2014-12-26\n",
       "19      2014-12-27\n",
       "20      2014-12-28\n",
       "21      2014-12-29\n",
       "22      2014-12-30\n",
       "23      2014-12-31\n",
       "24      2015-01-01\n",
       "25      2015-01-02\n",
       "26      2015-01-03\n",
       "27      2015-01-04\n",
       "28      2015-01-05\n",
       "29      2015-01-06\n",
       "30      2015-01-07\n",
       "           ...    \n",
       "1431    2018-11-08\n",
       "1432    2018-11-09\n",
       "1433    2018-11-10\n",
       "1434    2018-11-11\n",
       "1435    2018-11-12\n",
       "1436    2018-11-13\n",
       "1437    2018-11-14\n",
       "1438    2018-11-15\n",
       "1439    2018-11-16\n",
       "1440    2018-11-17\n",
       "1441    2018-11-18\n",
       "1442    2018-11-19\n",
       "1443    2018-11-20\n",
       "1444    2018-11-21\n",
       "1445    2018-11-22\n",
       "1446    2018-11-23\n",
       "1447    2018-11-24\n",
       "1448    2018-11-25\n",
       "1449    2018-11-26\n",
       "1450    2018-11-27\n",
       "1451    2018-11-28\n",
       "1452    2018-11-29\n",
       "1453    2018-11-30\n",
       "1454    2018-12-01\n",
       "1455    2018-12-02\n",
       "1456    2018-12-03\n",
       "1457    2018-12-04\n",
       "1458    2018-12-05\n",
       "1459    2018-12-06\n",
       "1460    2018-12-07\n",
       "Name: date, Length: 1460, dtype: object"
      ]
     },
     "execution_count": 9,
     "metadata": {},
     "output_type": "execute_result"
    }
   ],
   "source": [
    "all_crypto_df.date"
   ]
  },
  {
   "cell_type": "code",
   "execution_count": 30,
   "metadata": {},
   "outputs": [
    {
     "data": {
      "image/png": "[encoded data removed]",
      "text/plain": [
       "<Figure size 432x288 with 2 Axes>"
      ]
     },
     "metadata": {
      "needs_background": "light"
     },
     "output_type": "display_data"
    }
   ],
   "source": [
    "# years = mdates.YearLocator()   # every year\n",
    "# months = mdates.MonthLocator()  # every month\n",
    "# yearsFmt = mdates.DateFormatter('%Y')\n",
    "\n",
    "fig, ax1 = plt.subplots()\n",
    "\n",
    "color = 'tab:green'\n",
    "# ax1.set_xlabel('time (s)')\n",
    "ax1.set_ylabel('Price (BTC)', color=color)\n",
    "ax1.plot(all_crypto_df['date'], all_crypto_df['close_btc'], color=color)\n",
    "ax1.tick_params(axis='y', labelcolor=color)\n",
    "# ax1.xaxis.set_major_locator(years)\n",
    "fig.autofmt_xdate()\n",
    "\n",
    "ax2 = ax1.twinx()  # instantiate a second axes that shares the same x-axis\n",
    "\n",
    "color = 'tab:blue'\n",
    "ax2.set_ylabel('Price (Other Cryptos)', color=color)  # we already handled the x-label with ax1\n",
    "ax2.plot(merged_stocks['date'], merged_stocks['close_amd'],color=color)\n",
    "ax2.tick_params(axis='y', labelcolor=color)\n",
    "\n",
    "fig.tight_layout()  # otherwise the right y-label is slightly clipped\n",
    "plt.show()"
   ]
  },
  {
   "cell_type": "code",
   "execution_count": null,
   "metadata": {},
   "outputs": [],
   "source": []
  }
 ],
 "metadata": {
  "kernelspec": {
   "display_name": "my_environment",
   "language": "python",
   "name": "my_environment"
  },
  "language_info": {
   "codemirror_mode": {
    "name": "ipython",
    "version": 3
   },
   "file_extension": ".py",
   "mimetype": "text/x-python",
   "name": "python",
   "nbconvert_exporter": "python",
   "pygments_lexer": "ipython3",
   "version": "3.7.0"
  }
 },
 "nbformat": 4,
 "nbformat_minor": 2
}
