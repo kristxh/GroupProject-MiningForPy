{
 "cells": [
  {
   "cell_type": "markdown",
   "metadata": {},
   "source": [
    "## Data Cleaning and Exploration"
   ]
  },
  {
   "cell_type": "markdown",
   "metadata": {},
   "source": [
    "### Data Sources"
   ]
  },
  {
   "cell_type": "markdown",
   "metadata": {},
   "source": [
    "#### Keepa API for daily prices of video cards\n",
    "* Mason to provide"
   ]
  },
  {
   "cell_type": "markdown",
   "metadata": {},
   "source": [
    "#### Crypto Compare API for daily cryptocurrency prices\n",
    "* API calls were made to get daily price data for BTC, XRP, ETH, LTC, EOS, DASH\n",
    "* This responses contained three years of data of open high, low, close data for the above cryptos.\n",
    "* The data was exported into a csv file for each cryptocurrency\n",
    "* The transformations to the data were:<br>1) Removed open, high, low prices since we only needed close<br>2) Converted date format from a UTC format<br>3) Removed data prior to 2017\n",
    "* The final cleaned version was one csv file with the date and close price from Jan 2017 to Dec 2018."
   ]
  },
  {
   "cell_type": "code",
   "execution_count": 21,
   "metadata": {},
   "outputs": [],
   "source": [
    "import pandas as pd\n",
    "# Import API key\n",
    "from api_keys import api_key\n",
    "\n",
    "# Sample query Save url and config information\n",
    "url = \"https://min-api.cryptocompare.com/data/histoday?fsym=\"\n",
    "currency = \"USD\"\n",
    "limit = 1460\n",
    "symbol = \"DASH\"\n",
    "\n",
    "# Build partial query URL\n",
    "query_url = f\"{url}{symbol}&tsym={currency}&limit={limit}&api_key={api_key}\""
   ]
  },
  {
   "cell_type": "code",
   "execution_count": 22,
   "metadata": {},
   "outputs": [
    {
     "data": {
      "text/html": [
       "<div>\n",
       "<style scoped>\n",
       "    .dataframe tbody tr th:only-of-type {\n",
       "        vertical-align: middle;\n",
       "    }\n",
       "\n",
       "    .dataframe tbody tr th {\n",
       "        vertical-align: top;\n",
       "    }\n",
       "\n",
       "    .dataframe thead th {\n",
       "        text-align: right;\n",
       "    }\n",
       "</style>\n",
       "<table border=\"1\" class=\"dataframe\">\n",
       "  <thead>\n",
       "    <tr style=\"text-align: right;\">\n",
       "      <th></th>\n",
       "      <th>date</th>\n",
       "      <th>close_btc</th>\n",
       "      <th>close_xrp</th>\n",
       "      <th>close_eth</th>\n",
       "      <th>close_ltc</th>\n",
       "      <th>close_eos</th>\n",
       "      <th>close_dash</th>\n",
       "    </tr>\n",
       "  </thead>\n",
       "  <tbody>\n",
       "    <tr>\n",
       "      <th>0</th>\n",
       "      <td>1/1/2017</td>\n",
       "      <td>995.44</td>\n",
       "      <td>0.006346</td>\n",
       "      <td>8.14</td>\n",
       "      <td>4.42</td>\n",
       "      <td>0.0</td>\n",
       "      <td>11.06</td>\n",
       "    </tr>\n",
       "    <tr>\n",
       "      <th>1</th>\n",
       "      <td>1/2/2017</td>\n",
       "      <td>1017.05</td>\n",
       "      <td>0.006312</td>\n",
       "      <td>8.33</td>\n",
       "      <td>4.54</td>\n",
       "      <td>0.0</td>\n",
       "      <td>11.62</td>\n",
       "    </tr>\n",
       "    <tr>\n",
       "      <th>2</th>\n",
       "      <td>1/3/2017</td>\n",
       "      <td>1033.30</td>\n",
       "      <td>0.006411</td>\n",
       "      <td>9.59</td>\n",
       "      <td>4.51</td>\n",
       "      <td>0.0</td>\n",
       "      <td>12.22</td>\n",
       "    </tr>\n",
       "  </tbody>\n",
       "</table>\n",
       "</div>"
      ],
      "text/plain": [
       "       date  close_btc  close_xrp  close_eth  close_ltc  close_eos  close_dash\n",
       "0  1/1/2017     995.44   0.006346       8.14       4.42        0.0       11.06\n",
       "1  1/2/2017    1017.05   0.006312       8.33       4.54        0.0       11.62\n",
       "2  1/3/2017    1033.30   0.006411       9.59       4.51        0.0       12.22"
      ]
     },
     "execution_count": 22,
     "metadata": {},
     "output_type": "execute_result"
    }
   ],
   "source": [
    "crypto_data = \"Resources/all_crypto_data.csv\"\n",
    "crypto_df = pd.read_csv(crypto_data) \n",
    "crypto_df.head(3)"
   ]
  },
  {
   "cell_type": "markdown",
   "metadata": {},
   "source": [
    "#### Nasdaq for daily stock prices for companies that manufacturer video cards<br><br>https://www.nasdaq.com/quotes/historical-quotes.aspx\n",
    "* Downloaded daily csv files with daily open, high, low, close for AMD, NVDA, and MU.\n",
    "* The transformations to the data were:<br>1) Removed open, high, low prices since we only needed close<br>2) Removed data prior to 2017\n",
    "* The final cleaned version was one csv file with the date and closing prices for the three stocks from Jan 2017 - Dec 2018."
   ]
  },
  {
   "cell_type": "code",
   "execution_count": 18,
   "metadata": {},
   "outputs": [
    {
     "data": {
      "text/html": [
       "<div>\n",
       "<style scoped>\n",
       "    .dataframe tbody tr th:only-of-type {\n",
       "        vertical-align: middle;\n",
       "    }\n",
       "\n",
       "    .dataframe tbody tr th {\n",
       "        vertical-align: top;\n",
       "    }\n",
       "\n",
       "    .dataframe thead th {\n",
       "        text-align: right;\n",
       "    }\n",
       "</style>\n",
       "<table border=\"1\" class=\"dataframe\">\n",
       "  <thead>\n",
       "    <tr style=\"text-align: right;\">\n",
       "      <th></th>\n",
       "      <th>date</th>\n",
       "      <th>close_amd</th>\n",
       "      <th>close_nvda</th>\n",
       "      <th>close_mu</th>\n",
       "    </tr>\n",
       "  </thead>\n",
       "  <tbody>\n",
       "    <tr>\n",
       "      <th>0</th>\n",
       "      <td>1/3/2017</td>\n",
       "      <td>11.43</td>\n",
       "      <td>102.01</td>\n",
       "      <td>22.55</td>\n",
       "    </tr>\n",
       "    <tr>\n",
       "      <th>1</th>\n",
       "      <td>1/4/2017</td>\n",
       "      <td>11.43</td>\n",
       "      <td>104.39</td>\n",
       "      <td>22.36</td>\n",
       "    </tr>\n",
       "    <tr>\n",
       "      <th>2</th>\n",
       "      <td>1/5/2017</td>\n",
       "      <td>11.24</td>\n",
       "      <td>101.74</td>\n",
       "      <td>22.11</td>\n",
       "    </tr>\n",
       "  </tbody>\n",
       "</table>\n",
       "</div>"
      ],
      "text/plain": [
       "       date  close_amd  close_nvda  close_mu\n",
       "0  1/3/2017      11.43      102.01     22.55\n",
       "1  1/4/2017      11.43      104.39     22.36\n",
       "2  1/5/2017      11.24      101.74     22.11"
      ]
     },
     "execution_count": 18,
     "metadata": {},
     "output_type": "execute_result"
    }
   ],
   "source": [
    "stock_data = \"Resources/all_stock_data.csv\"\n",
    "stock_df = pd.read_csv(stock_data)\n",
    "stock_df.head(3)"
   ]
  },
  {
   "cell_type": "markdown",
   "metadata": {},
   "source": []
  },
  {
   "cell_type": "code",
   "execution_count": null,
   "metadata": {},
   "outputs": [],
   "source": []
  },
  {
   "cell_type": "code",
   "execution_count": null,
   "metadata": {},
   "outputs": [],
   "source": []
  },
  {
   "cell_type": "code",
   "execution_count": null,
   "metadata": {},
   "outputs": [],
   "source": []
  }
 ],
 "metadata": {
  "kernelspec": {
   "display_name": "my_environment",
   "language": "python",
   "name": "my_environment"
  },
  "language_info": {
   "codemirror_mode": {
    "name": "ipython",
    "version": 3
   },
   "file_extension": ".py",
   "mimetype": "text/x-python",
   "name": "python",
   "nbconvert_exporter": "python",
   "pygments_lexer": "ipython3",
   "version": "3.7.0"
  }
 },
 "nbformat": 4,
 "nbformat_minor": 2
}
